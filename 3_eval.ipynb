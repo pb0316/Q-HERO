{
 "cells": [
  {
   "cell_type": "code",
   "execution_count": 2,
   "metadata": {},
   "outputs": [
    {
     "name": "stdout",
     "output_type": "stream",
     "text": [
      "Uniqueness: 0.9762\n",
      "Novelty: 0.9965\n",
      "QAC Ratio: 0.9592\n"
     ]
    }
   ],
   "source": [
    "from rdkit import Chem\n",
    "\n",
    "# Load SMILES and convert to canonical SMILES\n",
    "def load_canonical_smiles(file):\n",
    "    with open(file, 'r') as f:\n",
    "        smiles = [smi.strip() for smi in f if Chem.MolFromSmiles(smi.strip())]\n",
    "    canonical_smiles = {Chem.MolToSmiles(Chem.MolFromSmiles(smi), canonical=True) for smi in smiles}\n",
    "    is_qac_count = sum(1 for smi in smiles if \"[N+]\" in smi or \"[n+]\" in smi)\n",
    "    return canonical_smiles, is_qac_count\n",
    "\n",
    "# File paths\n",
    "generated_smiles_file = \"qac-0315-clean.txt\"\n",
    "reference_smiles_file = \"outputs/set_0-generated-20241230.txt\"\n",
    "\n",
    "# Load canonical SMILES and QAC count\n",
    "generated_canonical, generated_is_qac = load_canonical_smiles(generated_smiles_file)\n",
    "reference_canonical, _ = load_canonical_smiles(reference_smiles_file)\n",
    "\n",
    "# Calculate metrics\n",
    "uniqueness = len(generated_canonical) / len(open(generated_smiles_file).readlines())\n",
    "novelty = len(generated_canonical - reference_canonical) / len(generated_canonical)\n",
    "is_qac_ratio = generated_is_qac / len(open(generated_smiles_file).readlines())\n",
    "\n",
    "# Output results\n",
    "print(f\"Uniqueness: {uniqueness:.4f}\")\n",
    "print(f\"Novelty: {novelty:.4f}\")\n",
    "print(f\"QAC Ratio: {is_qac_ratio:.4f}\")\n"
   ]
  }
 ],
 "metadata": {
  "kernelspec": {
   "display_name": "Python 3.11.11 ('pytorch')",
   "language": "python",
   "name": "python3"
  },
  "language_info": {
   "codemirror_mode": {
    "name": "ipython",
    "version": 3
   },
   "file_extension": ".py",
   "mimetype": "text/x-python",
   "name": "python",
   "nbconvert_exporter": "python",
   "pygments_lexer": "ipython3",
   "version": "3.11.11"
  },
  "orig_nbformat": 4,
  "vscode": {
   "interpreter": {
    "hash": "2d58e898dde0263bc564c6968b04150abacfd33eed9b19aaa8e45c040360e146"
   }
  }
 },
 "nbformat": 4,
 "nbformat_minor": 2
}
